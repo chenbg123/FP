{
 "cells": [
  {
   "cell_type": "code",
   "execution_count": 17,
   "id": "7f0d9f69",
   "metadata": {},
   "outputs": [],
   "source": [
    "import pandas as pd\n",
    "import pickle\n",
    "import numpy as np\n",
    "from sklearn.ensemble import VotingClassifier"
   ]
  },
  {
   "cell_type": "code",
   "execution_count": 18,
   "id": "3d21d2c0",
   "metadata": {},
   "outputs": [],
   "source": [
    "x_train_tf = np.load('feature_extraction/X_train_tf.npy', allow_pickle=True)\n",
    "x_test_tf = np.load('feature_extraction/X_test_tf.npy', allow_pickle=True)\n",
    "\n",
    "\n",
    "y_train = np.load('feature_extraction/y_train.npy', allow_pickle=True)\n",
    "y_test = np.load('feature_extraction/y_test.npy', allow_pickle=True)"
   ]
  },
  {
   "cell_type": "code",
   "execution_count": 19,
   "id": "7bb1139d",
   "metadata": {},
   "outputs": [],
   "source": [
    "x_train=x_train_tf[0].toarray()\n",
    "x_test=x_test_tf[0].toarray()"
   ]
  },
  {
   "cell_type": "code",
   "execution_count": 20,
   "id": "af638d90",
   "metadata": {},
   "outputs": [],
   "source": [
    "lr=\"LR.pkl\"\n",
    "rf=\"RF.pkl\"\n",
    "dt=\"DT.pkl\"\n",
    "svm=\"SVC.pkl\"\n",
    "nb=\"NB.pkl\"\n",
    "gb=\"GB.pkl\"\n",
    "knn=\"KNN.pkl\""
   ]
  },
  {
   "cell_type": "code",
   "execution_count": 21,
   "id": "dff18cb1",
   "metadata": {},
   "outputs": [],
   "source": [
    "with open(lr, 'rb') as file:\n",
    "    lr = pickle.load(file)\n",
    "\n",
    "with open(rf, 'rb') as file:\n",
    "    rf = pickle.load(file)\n",
    "\n",
    "with open(dt, 'rb') as file:\n",
    "    dt = pickle.load(file)\n",
    "\n",
    "with open(svm, 'rb') as file:\n",
    "    svm = pickle.load(file)\n",
    "\n",
    "with open(nb, 'rb') as file:\n",
    "    nb = pickle.load(file)\n",
    "\n",
    "with open(gb, 'rb') as file:\n",
    "    gb = pickle.load(file)\n",
    "\n",
    "with open(knn, 'rb') as file:\n",
    "    knn = pickle.load(file)"
   ]
  },
  {
   "cell_type": "code",
   "execution_count": 22,
   "id": "791d1f43",
   "metadata": {},
   "outputs": [],
   "source": [
    "voting_clf = VotingClassifier(estimators=[('rf', rf), ('dt', dt), ('lr', lr),('gb',gb),('nb',nb),('knn',knn),('svm', svm)], voting='soft')"
   ]
  },
  {
   "cell_type": "code",
   "execution_count": null,
   "id": "aa32c975",
   "metadata": {},
   "outputs": [],
   "source": [
    "voting_clf.fit(x_train, y_train)\n",
    "# Predict on the test data\n",
    "y_pred = voting_clf.predict(x_test)\n",
    "\n",
    "# Calculate evaluation metrics\n",
    "acc = accuracy_score(y_test, y_pred)\n",
    "precision = precision_score(y_test, y_pred)\n",
    "recall = recall_score(y_test, y_pred)\n",
    "f1 = f1_score(y_test, y_pred)\n",
    "\n",
    "\n",
    "# Print evaluation metrics\n",
    "print(f\"Metrics for Soft voting:\")\n",
    "print(\"Accuracy:\", acc)\n",
    "print(\"Precision:\", precision)\n",
    "print(\"Recall:\", recall)\n",
    "print(\"F1 Score:\", f1)\n",
    "print()"
   ]
  },
  {
   "cell_type": "code",
   "execution_count": null,
   "id": "0b0dfd02",
   "metadata": {},
   "outputs": [],
   "source": []
  }
 ],
 "metadata": {
  "kernelspec": {
   "display_name": "Python 3 (ipykernel)",
   "language": "python",
   "name": "python3"
  },
  "language_info": {
   "codemirror_mode": {
    "name": "ipython",
    "version": 3
   },
   "file_extension": ".py",
   "mimetype": "text/x-python",
   "name": "python",
   "nbconvert_exporter": "python",
   "pygments_lexer": "ipython3",
   "version": "3.8.16"
  }
 },
 "nbformat": 4,
 "nbformat_minor": 5
}
