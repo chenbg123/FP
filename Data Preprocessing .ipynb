{
 "cells": [
  {
   "cell_type": "markdown",
   "id": "3de75836",
   "metadata": {},
   "source": [
    "# Data Preprocessing "
   ]
  },
  {
   "cell_type": "code",
   "execution_count": 366,
   "id": "a651a968",
   "metadata": {},
   "outputs": [],
   "source": [
    "# nltk.download('wordnet')"
   ]
  },
  {
   "cell_type": "code",
   "execution_count": 1,
   "id": "d9bd581e",
   "metadata": {},
   "outputs": [],
   "source": [
    "import pandas as pd\n",
    "import numpy as np\n",
    "\n",
    "import re\n",
    "import string\n",
    "import nltk\n",
    "import pickle\n",
    "import sklearn\n",
    "import scipy\n",
    "from wordcloud import WordCloud\n",
    "# Display the word cloud\n",
    "import matplotlib.pyplot as plt\n",
    "from wordcloud import WordCloud, STOPWORDS\n",
    "from nltk.corpus import stopwords\n",
    "from textblob import TextBlob\n",
    "from nltk.probability import FreqDist\n",
    "from nltk.stem.porter import PorterStemmer\n",
    "from sklearn.metrics import confusion_matrix\n",
    "from sklearn.feature_extraction.text import TfidfVectorizer\n",
    "from sklearn.feature_extraction.text import CountVectorizer\n",
    "from scipy.sparse import hstack\n",
    "from sklearn.model_selection import train_test_split \n",
    "from sklearn.linear_model import LogisticRegression\n",
    "from sklearn.metrics import classification_report\n",
    "from sklearn.metrics import accuracy_score\n",
    "from sklearn.ensemble import VotingClassifier"
   ]
  },
  {
   "cell_type": "code",
   "execution_count": 2,
   "id": "a366e04c",
   "metadata": {},
   "outputs": [],
   "source": [
    "constraint_train=pd.read_csv(\"data/constraint_train.csv\")\n",
    "constraint_test=pd.read_csv(\"data/constraint_test.csv\")\n",
    "constraint_val=pd.read_csv(\"data/constraint_val.csv\")\n",
    "\n",
    "claim_fake1=pd.read_csv(\"data/ClaimFake-1.csv\")\n",
    "claim_fake2=pd.read_csv(\"data/ClaimFake-2.csv\")\n",
    "\n",
    "claim_real1=pd.read_csv(\"data/ClaimReal-1.csv\")\n",
    "claim_real2=pd.read_csv(\"data/ClaimReal-2.csv\")\n",
    "claim_real3=pd.read_csv(\"data/ClaimReal-3.csv\")\n",
    "claim_real4=pd.read_csv(\"data/ClaimReal-4.csv\")\n",
    "\n",
    "news_real1=pd.read_csv(\"data/NewsReal-1.csv\")\n",
    "news_real2=pd.read_csv(\"data/NewsReal-2.csv\")\n",
    "news_real3=pd.read_csv(\"data/NewsReal-3.csv\")\n",
    "news_real4=pd.read_csv(\"data/NewsReal-4.csv\")\n",
    "\n",
    "news_fake1=pd.read_csv(\"data/Newsfake-1.csv\")\n",
    "news_fake2=pd.read_csv(\"data/Newsfake-2.csv\")\n",
    "news_fake3=pd.read_csv(\"data/Newsfake-3.csv\")\n",
    "news_fake4=pd.read_csv(\"data/Newsfake-4.csv\")"
   ]
  },
  {
   "cell_type": "code",
   "execution_count": 3,
   "id": "62191383",
   "metadata": {},
   "outputs": [
    {
     "data": {
      "text/plain": [
       "(6420, 3)"
      ]
     },
     "execution_count": 3,
     "metadata": {},
     "output_type": "execute_result"
    }
   ],
   "source": [
    "constraint_train"
   ]
  },
  {
   "cell_type": "code",
   "execution_count": 15,
   "id": "c77132ba",
   "metadata": {},
   "outputs": [
    {
     "data": {
      "text/plain": [
       "(56, 15)"
      ]
     },
     "execution_count": 15,
     "metadata": {},
     "output_type": "execute_result"
    }
   ],
   "source": [
    "news_fake3.shape"
   ]
  },
  {
   "cell_type": "code",
   "execution_count": 6,
   "id": "f07d20b8",
   "metadata": {},
   "outputs": [
    {
     "data": {
      "text/plain": [
       "(2140, 3)"
      ]
     },
     "execution_count": 6,
     "metadata": {},
     "output_type": "execute_result"
    }
   ],
   "source": [
    "constraint_val.shape"
   ]
  },
  {
   "cell_type": "markdown",
   "id": "62d711c9",
   "metadata": {},
   "source": [
    "## Data description"
   ]
  },
  {
   "cell_type": "code",
   "execution_count": 369,
   "id": "09ac665a",
   "metadata": {},
   "outputs": [
    {
     "data": {
      "text/html": [
       "<div>\n",
       "<style scoped>\n",
       "    .dataframe tbody tr th:only-of-type {\n",
       "        vertical-align: middle;\n",
       "    }\n",
       "\n",
       "    .dataframe tbody tr th {\n",
       "        vertical-align: top;\n",
       "    }\n",
       "\n",
       "    .dataframe thead th {\n",
       "        text-align: right;\n",
       "    }\n",
       "</style>\n",
       "<table border=\"1\" class=\"dataframe\">\n",
       "  <thead>\n",
       "    <tr style=\"text-align: right;\">\n",
       "      <th></th>\n",
       "      <th>id</th>\n",
       "      <th>tweet</th>\n",
       "      <th>label</th>\n",
       "    </tr>\n",
       "  </thead>\n",
       "  <tbody>\n",
       "    <tr>\n",
       "      <th>0</th>\n",
       "      <td>1</td>\n",
       "      <td>The CDC currently reports 99031 deaths. In gen...</td>\n",
       "      <td>real</td>\n",
       "    </tr>\n",
       "    <tr>\n",
       "      <th>1</th>\n",
       "      <td>2</td>\n",
       "      <td>States reported 1121 deaths a small rise from ...</td>\n",
       "      <td>real</td>\n",
       "    </tr>\n",
       "    <tr>\n",
       "      <th>2</th>\n",
       "      <td>3</td>\n",
       "      <td>Politically Correct Woman (Almost) Uses Pandem...</td>\n",
       "      <td>fake</td>\n",
       "    </tr>\n",
       "    <tr>\n",
       "      <th>3</th>\n",
       "      <td>4</td>\n",
       "      <td>#IndiaFightsCorona: We have 1524 #COVID testin...</td>\n",
       "      <td>real</td>\n",
       "    </tr>\n",
       "    <tr>\n",
       "      <th>4</th>\n",
       "      <td>5</td>\n",
       "      <td>Populous states can generate large case counts...</td>\n",
       "      <td>real</td>\n",
       "    </tr>\n",
       "  </tbody>\n",
       "</table>\n",
       "</div>"
      ],
      "text/plain": [
       "   id                                              tweet label\n",
       "0   1  The CDC currently reports 99031 deaths. In gen...  real\n",
       "1   2  States reported 1121 deaths a small rise from ...  real\n",
       "2   3  Politically Correct Woman (Almost) Uses Pandem...  fake\n",
       "3   4  #IndiaFightsCorona: We have 1524 #COVID testin...  real\n",
       "4   5  Populous states can generate large case counts...  real"
      ]
     },
     "execution_count": 369,
     "metadata": {},
     "output_type": "execute_result"
    }
   ],
   "source": [
    "df_train.head()"
   ]
  },
  {
   "cell_type": "code",
   "execution_count": 370,
   "id": "0b1256b0",
   "metadata": {},
   "outputs": [
    {
     "data": {
      "text/html": [
       "<div>\n",
       "<style scoped>\n",
       "    .dataframe tbody tr th:only-of-type {\n",
       "        vertical-align: middle;\n",
       "    }\n",
       "\n",
       "    .dataframe tbody tr th {\n",
       "        vertical-align: top;\n",
       "    }\n",
       "\n",
       "    .dataframe thead th {\n",
       "        text-align: right;\n",
       "    }\n",
       "</style>\n",
       "<table border=\"1\" class=\"dataframe\">\n",
       "  <thead>\n",
       "    <tr style=\"text-align: right;\">\n",
       "      <th></th>\n",
       "      <th>id</th>\n",
       "      <th>tweet</th>\n",
       "      <th>label</th>\n",
       "    </tr>\n",
       "  </thead>\n",
       "  <tbody>\n",
       "    <tr>\n",
       "      <th>0</th>\n",
       "      <td>1</td>\n",
       "      <td>Our daily update is published. States reported...</td>\n",
       "      <td>real</td>\n",
       "    </tr>\n",
       "    <tr>\n",
       "      <th>1</th>\n",
       "      <td>2</td>\n",
       "      <td>Alfalfa is the only cure for COVID-19.</td>\n",
       "      <td>fake</td>\n",
       "    </tr>\n",
       "    <tr>\n",
       "      <th>2</th>\n",
       "      <td>3</td>\n",
       "      <td>President Trump Asked What He Would Do If He W...</td>\n",
       "      <td>fake</td>\n",
       "    </tr>\n",
       "    <tr>\n",
       "      <th>3</th>\n",
       "      <td>4</td>\n",
       "      <td>States reported 630 deaths. We are still seein...</td>\n",
       "      <td>real</td>\n",
       "    </tr>\n",
       "    <tr>\n",
       "      <th>4</th>\n",
       "      <td>5</td>\n",
       "      <td>This is the sixth time a global health emergen...</td>\n",
       "      <td>real</td>\n",
       "    </tr>\n",
       "  </tbody>\n",
       "</table>\n",
       "</div>"
      ],
      "text/plain": [
       "   id                                              tweet label\n",
       "0   1  Our daily update is published. States reported...  real\n",
       "1   2             Alfalfa is the only cure for COVID-19.  fake\n",
       "2   3  President Trump Asked What He Would Do If He W...  fake\n",
       "3   4  States reported 630 deaths. We are still seein...  real\n",
       "4   5  This is the sixth time a global health emergen...  real"
      ]
     },
     "execution_count": 370,
     "metadata": {},
     "output_type": "execute_result"
    }
   ],
   "source": [
    "df_test.head()"
   ]
  },
  {
   "cell_type": "code",
   "execution_count": 371,
   "id": "c13bee33",
   "metadata": {},
   "outputs": [
    {
     "data": {
      "text/html": [
       "<div>\n",
       "<style scoped>\n",
       "    .dataframe tbody tr th:only-of-type {\n",
       "        vertical-align: middle;\n",
       "    }\n",
       "\n",
       "    .dataframe tbody tr th {\n",
       "        vertical-align: top;\n",
       "    }\n",
       "\n",
       "    .dataframe thead th {\n",
       "        text-align: right;\n",
       "    }\n",
       "</style>\n",
       "<table border=\"1\" class=\"dataframe\">\n",
       "  <thead>\n",
       "    <tr style=\"text-align: right;\">\n",
       "      <th></th>\n",
       "      <th>id</th>\n",
       "      <th>tweet</th>\n",
       "      <th>label</th>\n",
       "    </tr>\n",
       "  </thead>\n",
       "  <tbody>\n",
       "    <tr>\n",
       "      <th>0</th>\n",
       "      <td>1</td>\n",
       "      <td>Chinese converting to Islam after realising th...</td>\n",
       "      <td>fake</td>\n",
       "    </tr>\n",
       "    <tr>\n",
       "      <th>1</th>\n",
       "      <td>2</td>\n",
       "      <td>11 out of 13 people (from the Diamond Princess...</td>\n",
       "      <td>fake</td>\n",
       "    </tr>\n",
       "    <tr>\n",
       "      <th>2</th>\n",
       "      <td>3</td>\n",
       "      <td>COVID-19 Is Caused By A Bacterium, Not Virus A...</td>\n",
       "      <td>fake</td>\n",
       "    </tr>\n",
       "    <tr>\n",
       "      <th>3</th>\n",
       "      <td>4</td>\n",
       "      <td>Mike Pence in RNC speech praises Donald Trump’...</td>\n",
       "      <td>fake</td>\n",
       "    </tr>\n",
       "    <tr>\n",
       "      <th>4</th>\n",
       "      <td>5</td>\n",
       "      <td>6/10 Sky's @EdConwaySky explains the latest #C...</td>\n",
       "      <td>real</td>\n",
       "    </tr>\n",
       "  </tbody>\n",
       "</table>\n",
       "</div>"
      ],
      "text/plain": [
       "   id                                              tweet label\n",
       "0   1  Chinese converting to Islam after realising th...  fake\n",
       "1   2  11 out of 13 people (from the Diamond Princess...  fake\n",
       "2   3  COVID-19 Is Caused By A Bacterium, Not Virus A...  fake\n",
       "3   4  Mike Pence in RNC speech praises Donald Trump’...  fake\n",
       "4   5  6/10 Sky's @EdConwaySky explains the latest #C...  real"
      ]
     },
     "execution_count": 371,
     "metadata": {},
     "output_type": "execute_result"
    }
   ],
   "source": [
    "df_val.head()"
   ]
  },
  {
   "cell_type": "code",
   "execution_count": 372,
   "id": "f3aa8f1f",
   "metadata": {},
   "outputs": [
    {
     "data": {
      "text/html": [
       "<div>\n",
       "<style scoped>\n",
       "    .dataframe tbody tr th:only-of-type {\n",
       "        vertical-align: middle;\n",
       "    }\n",
       "\n",
       "    .dataframe tbody tr th {\n",
       "        vertical-align: top;\n",
       "    }\n",
       "\n",
       "    .dataframe thead th {\n",
       "        text-align: right;\n",
       "    }\n",
       "</style>\n",
       "<table border=\"1\" class=\"dataframe\">\n",
       "  <thead>\n",
       "    <tr style=\"text-align: right;\">\n",
       "      <th></th>\n",
       "      <th>Unnamed: 0</th>\n",
       "      <th>fact_check_url</th>\n",
       "      <th>news_url</th>\n",
       "      <th>title</th>\n",
       "    </tr>\n",
       "  </thead>\n",
       "  <tbody>\n",
       "    <tr>\n",
       "      <th>0</th>\n",
       "      <td>100000</td>\n",
       "      <td>medicalnewstoday.com</td>\n",
       "      <td>https://www.medicalnewstoday.com/articles/coro...</td>\n",
       "      <td>\"Spraying chlorine or alcohol on the skin kill...</td>\n",
       "    </tr>\n",
       "    <tr>\n",
       "      <th>1</th>\n",
       "      <td>100001</td>\n",
       "      <td>medicalnewstoday.com</td>\n",
       "      <td>https://www.medicalnewstoday.com/articles/coro...</td>\n",
       "      <td>\"Only older adults and young people are at risk\"</td>\n",
       "    </tr>\n",
       "    <tr>\n",
       "      <th>2</th>\n",
       "      <td>100002</td>\n",
       "      <td>medicalnewstoday.com</td>\n",
       "      <td>https://www.medicalnewstoday.com/articles/coro...</td>\n",
       "      <td>\"Children cannot get COVID-19\"</td>\n",
       "    </tr>\n",
       "    <tr>\n",
       "      <th>3</th>\n",
       "      <td>100003</td>\n",
       "      <td>medicalnewstoday.com</td>\n",
       "      <td>https://www.medicalnewstoday.com/articles/coro...</td>\n",
       "      <td>\"COVID-19 is just like the flu\"</td>\n",
       "    </tr>\n",
       "    <tr>\n",
       "      <th>4</th>\n",
       "      <td>100004</td>\n",
       "      <td>medicalnewstoday.com</td>\n",
       "      <td>https://www.medicalnewstoday.com/articles/coro...</td>\n",
       "      <td>\"Everyone with COVID-19 dies\"</td>\n",
       "    </tr>\n",
       "  </tbody>\n",
       "</table>\n",
       "</div>"
      ],
      "text/plain": [
       "   Unnamed: 0        fact_check_url  \\\n",
       "0      100000  medicalnewstoday.com   \n",
       "1      100001  medicalnewstoday.com   \n",
       "2      100002  medicalnewstoday.com   \n",
       "3      100003  medicalnewstoday.com   \n",
       "4      100004  medicalnewstoday.com   \n",
       "\n",
       "                                            news_url  \\\n",
       "0  https://www.medicalnewstoday.com/articles/coro...   \n",
       "1  https://www.medicalnewstoday.com/articles/coro...   \n",
       "2  https://www.medicalnewstoday.com/articles/coro...   \n",
       "3  https://www.medicalnewstoday.com/articles/coro...   \n",
       "4  https://www.medicalnewstoday.com/articles/coro...   \n",
       "\n",
       "                                               title  \n",
       "0  \"Spraying chlorine or alcohol on the skin kill...  \n",
       "1   \"Only older adults and young people are at risk\"  \n",
       "2                     \"Children cannot get COVID-19\"  \n",
       "3                    \"COVID-19 is just like the flu\"  \n",
       "4                      \"Everyone with COVID-19 dies\"  "
      ]
     },
     "execution_count": 372,
     "metadata": {},
     "output_type": "execute_result"
    }
   ],
   "source": [
    "claim_fake1.head()"
   ]
  },
  {
   "cell_type": "code",
   "execution_count": 373,
   "id": "7cf75f55",
   "metadata": {},
   "outputs": [
    {
     "data": {
      "text/html": [
       "<div>\n",
       "<style scoped>\n",
       "    .dataframe tbody tr th:only-of-type {\n",
       "        vertical-align: middle;\n",
       "    }\n",
       "\n",
       "    .dataframe tbody tr th {\n",
       "        vertical-align: top;\n",
       "    }\n",
       "\n",
       "    .dataframe thead th {\n",
       "        text-align: right;\n",
       "    }\n",
       "</style>\n",
       "<table border=\"1\" class=\"dataframe\">\n",
       "  <thead>\n",
       "    <tr style=\"text-align: right;\">\n",
       "      <th></th>\n",
       "      <th>Unnamed: 0</th>\n",
       "      <th>fact_check_url</th>\n",
       "      <th>news_url</th>\n",
       "      <th>title</th>\n",
       "    </tr>\n",
       "  </thead>\n",
       "  <tbody>\n",
       "    <tr>\n",
       "      <th>0</th>\n",
       "      <td>100000</td>\n",
       "      <td>who.int</td>\n",
       "      <td>https://www.who.int/news-room/q-a-detail/q-a-o...</td>\n",
       "      <td>\"How large does a meeting or event need to be ...</td>\n",
       "    </tr>\n",
       "    <tr>\n",
       "      <th>1</th>\n",
       "      <td>100001</td>\n",
       "      <td>who.int</td>\n",
       "      <td>https://www.who.int/news-room/q-a-detail/q-a-o...</td>\n",
       "      <td>\"Does WHO recommend that all international mas...</td>\n",
       "    </tr>\n",
       "    <tr>\n",
       "      <th>2</th>\n",
       "      <td>100002</td>\n",
       "      <td>who.int</td>\n",
       "      <td>https://www.who.int/news-room/q-a-detail/q-a-o...</td>\n",
       "      <td>\"What factors should organizers and health aut...</td>\n",
       "    </tr>\n",
       "    <tr>\n",
       "      <th>3</th>\n",
       "      <td>100003</td>\n",
       "      <td>who.int</td>\n",
       "      <td>https://www.who.int/news-room/q-a-detail/q-a-o...</td>\n",
       "      <td>\"What if my organization does not have the exp...</td>\n",
       "    </tr>\n",
       "    <tr>\n",
       "      <th>4</th>\n",
       "      <td>100004</td>\n",
       "      <td>who.int</td>\n",
       "      <td>https://www.who.int/news-room/q-a-detail/q-a-o...</td>\n",
       "      <td>\"If we go ahead with an international mass gat...</td>\n",
       "    </tr>\n",
       "  </tbody>\n",
       "</table>\n",
       "</div>"
      ],
      "text/plain": [
       "   Unnamed: 0 fact_check_url  \\\n",
       "0      100000        who.int   \n",
       "1      100001        who.int   \n",
       "2      100002        who.int   \n",
       "3      100003        who.int   \n",
       "4      100004        who.int   \n",
       "\n",
       "                                            news_url  \\\n",
       "0  https://www.who.int/news-room/q-a-detail/q-a-o...   \n",
       "1  https://www.who.int/news-room/q-a-detail/q-a-o...   \n",
       "2  https://www.who.int/news-room/q-a-detail/q-a-o...   \n",
       "3  https://www.who.int/news-room/q-a-detail/q-a-o...   \n",
       "4  https://www.who.int/news-room/q-a-detail/q-a-o...   \n",
       "\n",
       "                                               title  \n",
       "0  \"How large does a meeting or event need to be ...  \n",
       "1  \"Does WHO recommend that all international mas...  \n",
       "2  \"What factors should organizers and health aut...  \n",
       "3  \"What if my organization does not have the exp...  \n",
       "4  \"If we go ahead with an international mass gat...  "
      ]
     },
     "execution_count": 373,
     "metadata": {},
     "output_type": "execute_result"
    }
   ],
   "source": [
    "claim_real1.head()"
   ]
  },
  {
   "cell_type": "code",
   "execution_count": 374,
   "id": "7527dc42",
   "metadata": {},
   "outputs": [
    {
     "data": {
      "text/html": [
       "<div>\n",
       "<style scoped>\n",
       "    .dataframe tbody tr th:only-of-type {\n",
       "        vertical-align: middle;\n",
       "    }\n",
       "\n",
       "    .dataframe tbody tr th {\n",
       "        vertical-align: top;\n",
       "    }\n",
       "\n",
       "    .dataframe thead th {\n",
       "        text-align: right;\n",
       "    }\n",
       "</style>\n",
       "<table border=\"1\" class=\"dataframe\">\n",
       "  <thead>\n",
       "    <tr style=\"text-align: right;\">\n",
       "      <th></th>\n",
       "      <th>Unnamed: 0</th>\n",
       "      <th>type</th>\n",
       "      <th>fact_check_url</th>\n",
       "      <th>archive</th>\n",
       "      <th>news_url</th>\n",
       "      <th>news_url2</th>\n",
       "      <th>news_url3</th>\n",
       "      <th>news_url4</th>\n",
       "      <th>news_url5</th>\n",
       "      <th>title</th>\n",
       "      <th>newstitle</th>\n",
       "      <th>content</th>\n",
       "      <th>abstract</th>\n",
       "      <th>publish_date</th>\n",
       "      <th>meta_keywords</th>\n",
       "    </tr>\n",
       "  </thead>\n",
       "  <tbody>\n",
       "    <tr>\n",
       "      <th>0</th>\n",
       "      <td>0</td>\n",
       "      <td>post</td>\n",
       "      <td>https://factcheck.afp.com/false-advice-refusin...</td>\n",
       "      <td>https://perma.cc/J4N6-39D5</td>\n",
       "      <td>https://www.facebook.com/photo.php?fbid=551960...</td>\n",
       "      <td>NaN</td>\n",
       "      <td>NaN</td>\n",
       "      <td>NaN</td>\n",
       "      <td>NaN</td>\n",
       "      <td>Facebook posts shared in at least three countr...</td>\n",
       "      <td>NaN</td>\n",
       "      <td>NaN</td>\n",
       "      <td>NaN</td>\n",
       "      <td>NaN</td>\n",
       "      <td>NaN</td>\n",
       "    </tr>\n",
       "    <tr>\n",
       "      <th>1</th>\n",
       "      <td>1</td>\n",
       "      <td>article</td>\n",
       "      <td>https://www.politifact.com/factchecks/2020/apr...</td>\n",
       "      <td>NaN</td>\n",
       "      <td>http://legis.wisconsin.gov/assembly/republican...</td>\n",
       "      <td>NaN</td>\n",
       "      <td>NaN</td>\n",
       "      <td>NaN</td>\n",
       "      <td>NaN</td>\n",
       "      <td>Wisconsin is Òclearly seeing a decline in COVI...</td>\n",
       "      <td>\"Wisconsin Legislature Takes Gov. Evers to Court\"</td>\n",
       "      <td>speaker robin vos r rochester and senate major...</td>\n",
       "      <td>NaN</td>\n",
       "      <td>NaN</td>\n",
       "      <td>\"\"</td>\n",
       "    </tr>\n",
       "    <tr>\n",
       "      <th>2</th>\n",
       "      <td>2</td>\n",
       "      <td>post</td>\n",
       "      <td>https://factcheck.afp.com/posts-claim-children...</td>\n",
       "      <td>https://perma.cc/V4HX-M2XJ</td>\n",
       "      <td>https://www.facebook.com/iAmJessenia/photos/a....</td>\n",
       "      <td>NaN</td>\n",
       "      <td>NaN</td>\n",
       "      <td>NaN</td>\n",
       "      <td>NaN</td>\n",
       "      <td>Facebook posts claim a child who is infected w...</td>\n",
       "      <td>NaN</td>\n",
       "      <td>NaN</td>\n",
       "      <td>NaN</td>\n",
       "      <td>NaN</td>\n",
       "      <td>NaN</td>\n",
       "    </tr>\n",
       "    <tr>\n",
       "      <th>3</th>\n",
       "      <td>3</td>\n",
       "      <td>post</td>\n",
       "      <td>https://checkyourfact.com/2020/04/20/fact-chec...</td>\n",
       "      <td>NaN</td>\n",
       "      <td>https://www.facebook.com/kokernagnews/photos/a...</td>\n",
       "      <td>NaN</td>\n",
       "      <td>NaN</td>\n",
       "      <td>NaN</td>\n",
       "      <td>NaN</td>\n",
       "      <td>IndiaÕs Ministry of Home Affairs banning citiz...</td>\n",
       "      <td>NaN</td>\n",
       "      <td>NaN</td>\n",
       "      <td>NaN</td>\n",
       "      <td>NaN</td>\n",
       "      <td>NaN</td>\n",
       "    </tr>\n",
       "    <tr>\n",
       "      <th>4</th>\n",
       "      <td>5</td>\n",
       "      <td>post</td>\n",
       "      <td>https://checkyourfact.com/2020/04/20/fact-chec...</td>\n",
       "      <td>NaN</td>\n",
       "      <td>https://www.facebook.com/photo.php?fbid=102193...</td>\n",
       "      <td>NaN</td>\n",
       "      <td>NaN</td>\n",
       "      <td>NaN</td>\n",
       "      <td>NaN</td>\n",
       "      <td>42 Democratic senators, plus two Independents,...</td>\n",
       "      <td>NaN</td>\n",
       "      <td>NaN</td>\n",
       "      <td>NaN</td>\n",
       "      <td>NaN</td>\n",
       "      <td>NaN</td>\n",
       "    </tr>\n",
       "  </tbody>\n",
       "</table>\n",
       "</div>"
      ],
      "text/plain": [
       "   Unnamed: 0     type                                     fact_check_url  \\\n",
       "0           0     post  https://factcheck.afp.com/false-advice-refusin...   \n",
       "1           1  article  https://www.politifact.com/factchecks/2020/apr...   \n",
       "2           2     post  https://factcheck.afp.com/posts-claim-children...   \n",
       "3           3     post  https://checkyourfact.com/2020/04/20/fact-chec...   \n",
       "4           5     post  https://checkyourfact.com/2020/04/20/fact-chec...   \n",
       "\n",
       "                      archive  \\\n",
       "0  https://perma.cc/J4N6-39D5   \n",
       "1                         NaN   \n",
       "2  https://perma.cc/V4HX-M2XJ   \n",
       "3                         NaN   \n",
       "4                         NaN   \n",
       "\n",
       "                                            news_url news_url2 news_url3  \\\n",
       "0  https://www.facebook.com/photo.php?fbid=551960...       NaN       NaN   \n",
       "1  http://legis.wisconsin.gov/assembly/republican...       NaN       NaN   \n",
       "2  https://www.facebook.com/iAmJessenia/photos/a....       NaN       NaN   \n",
       "3  https://www.facebook.com/kokernagnews/photos/a...       NaN       NaN   \n",
       "4  https://www.facebook.com/photo.php?fbid=102193...       NaN       NaN   \n",
       "\n",
       "  news_url4 news_url5                                              title  \\\n",
       "0       NaN       NaN  Facebook posts shared in at least three countr...   \n",
       "1       NaN       NaN  Wisconsin is Òclearly seeing a decline in COVI...   \n",
       "2       NaN       NaN  Facebook posts claim a child who is infected w...   \n",
       "3       NaN       NaN  IndiaÕs Ministry of Home Affairs banning citiz...   \n",
       "4       NaN       NaN  42 Democratic senators, plus two Independents,...   \n",
       "\n",
       "                                           newstitle  \\\n",
       "0                                                NaN   \n",
       "1  \"Wisconsin Legislature Takes Gov. Evers to Court\"   \n",
       "2                                                NaN   \n",
       "3                                                NaN   \n",
       "4                                                NaN   \n",
       "\n",
       "                                             content abstract publish_date  \\\n",
       "0                                                NaN      NaN          NaN   \n",
       "1  speaker robin vos r rochester and senate major...      NaN          NaN   \n",
       "2                                                NaN      NaN          NaN   \n",
       "3                                                NaN      NaN          NaN   \n",
       "4                                                NaN      NaN          NaN   \n",
       "\n",
       "  meta_keywords  \n",
       "0           NaN  \n",
       "1            \"\"  \n",
       "2           NaN  \n",
       "3           NaN  \n",
       "4           NaN  "
      ]
     },
     "execution_count": 374,
     "metadata": {},
     "output_type": "execute_result"
    }
   ],
   "source": [
    "news_fake1.head()"
   ]
  },
  {
   "cell_type": "markdown",
   "id": "985df493",
   "metadata": {},
   "source": [
    "## Integrate all constrait datasets"
   ]
  },
  {
   "cell_type": "code",
   "execution_count": 375,
   "id": "59c03888",
   "metadata": {},
   "outputs": [],
   "source": [
    "constraint_df = pd.concat([constraint_train, constraint_test, constraint_val],axis=0, ignore_index=True)\n",
    "\n",
    "if \"id\" in constraint_df.columns:\n",
    "    constraint_df = constraint_df.drop(columns=[\"id\"])"
   ]
  },
  {
   "cell_type": "code",
   "execution_count": 376,
   "id": "8a3081a6",
   "metadata": {},
   "outputs": [],
   "source": [
    "constraint_df['label'] = constraint_df['label'].map({'real': 0, 'fake': 1})\n",
    "constraint_df.rename(columns={'tweet': 'content'},inplace=True)"
   ]
  },
  {
   "cell_type": "code",
   "execution_count": 377,
   "id": "46aff8ba",
   "metadata": {},
   "outputs": [
    {
     "data": {
      "text/html": [
       "<div>\n",
       "<style scoped>\n",
       "    .dataframe tbody tr th:only-of-type {\n",
       "        vertical-align: middle;\n",
       "    }\n",
       "\n",
       "    .dataframe tbody tr th {\n",
       "        vertical-align: top;\n",
       "    }\n",
       "\n",
       "    .dataframe thead th {\n",
       "        text-align: right;\n",
       "    }\n",
       "</style>\n",
       "<table border=\"1\" class=\"dataframe\">\n",
       "  <thead>\n",
       "    <tr style=\"text-align: right;\">\n",
       "      <th></th>\n",
       "      <th>content</th>\n",
       "      <th>label</th>\n",
       "    </tr>\n",
       "  </thead>\n",
       "  <tbody>\n",
       "    <tr>\n",
       "      <th>0</th>\n",
       "      <td>The CDC currently reports 99031 deaths. In gen...</td>\n",
       "      <td>0</td>\n",
       "    </tr>\n",
       "    <tr>\n",
       "      <th>1</th>\n",
       "      <td>States reported 1121 deaths a small rise from ...</td>\n",
       "      <td>0</td>\n",
       "    </tr>\n",
       "    <tr>\n",
       "      <th>2</th>\n",
       "      <td>Politically Correct Woman (Almost) Uses Pandem...</td>\n",
       "      <td>1</td>\n",
       "    </tr>\n",
       "    <tr>\n",
       "      <th>3</th>\n",
       "      <td>#IndiaFightsCorona: We have 1524 #COVID testin...</td>\n",
       "      <td>0</td>\n",
       "    </tr>\n",
       "    <tr>\n",
       "      <th>4</th>\n",
       "      <td>Populous states can generate large case counts...</td>\n",
       "      <td>0</td>\n",
       "    </tr>\n",
       "  </tbody>\n",
       "</table>\n",
       "</div>"
      ],
      "text/plain": [
       "                                             content  label\n",
       "0  The CDC currently reports 99031 deaths. In gen...      0\n",
       "1  States reported 1121 deaths a small rise from ...      0\n",
       "2  Politically Correct Woman (Almost) Uses Pandem...      1\n",
       "3  #IndiaFightsCorona: We have 1524 #COVID testin...      0\n",
       "4  Populous states can generate large case counts...      0"
      ]
     },
     "execution_count": 377,
     "metadata": {},
     "output_type": "execute_result"
    }
   ],
   "source": [
    "constraint_df.head()"
   ]
  },
  {
   "cell_type": "code",
   "execution_count": 378,
   "id": "690a1676",
   "metadata": {},
   "outputs": [
    {
     "data": {
      "text/plain": [
       "(10700, 2)"
      ]
     },
     "execution_count": 378,
     "metadata": {},
     "output_type": "execute_result"
    }
   ],
   "source": [
    "constraint_df.shape"
   ]
  },
  {
   "cell_type": "markdown",
   "id": "84cacda4",
   "metadata": {},
   "source": [
    "## integrate all claim datasets"
   ]
  },
  {
   "cell_type": "code",
   "execution_count": 379,
   "id": "991a132a",
   "metadata": {},
   "outputs": [],
   "source": [
    "claim_fake = pd.concat([claim_fake1, claim_fake2],axis=0, ignore_index=True)"
   ]
  },
  {
   "cell_type": "code",
   "execution_count": 380,
   "id": "1507e35d",
   "metadata": {},
   "outputs": [],
   "source": [
    "claim_real=pd.concat([claim_real1,claim_real2,claim_real3,claim_real4],axis=0, ignore_index=True)"
   ]
  },
  {
   "cell_type": "code",
   "execution_count": 381,
   "id": "5019e2f8",
   "metadata": {},
   "outputs": [],
   "source": [
    "claim_fake[\"label\"] = 1\n",
    "claim_real[\"label\"] = 0"
   ]
  },
  {
   "cell_type": "code",
   "execution_count": 382,
   "id": "12d94ad2",
   "metadata": {},
   "outputs": [],
   "source": [
    "claim_df = pd.concat([claim_fake, claim_real],axis=0, ignore_index=True)"
   ]
  },
  {
   "cell_type": "code",
   "execution_count": 383,
   "id": "1f8a406c",
   "metadata": {},
   "outputs": [],
   "source": [
    "claim_df.rename(columns={'title': 'content'},inplace=True)"
   ]
  },
  {
   "cell_type": "code",
   "execution_count": 384,
   "id": "700e5900",
   "metadata": {},
   "outputs": [],
   "source": [
    "claim_df.drop('Unnamed: 0', axis=1, inplace=True)"
   ]
  },
  {
   "cell_type": "code",
   "execution_count": 385,
   "id": "f5266fac",
   "metadata": {},
   "outputs": [
    {
     "data": {
      "text/html": [
       "<div>\n",
       "<style scoped>\n",
       "    .dataframe tbody tr th:only-of-type {\n",
       "        vertical-align: middle;\n",
       "    }\n",
       "\n",
       "    .dataframe tbody tr th {\n",
       "        vertical-align: top;\n",
       "    }\n",
       "\n",
       "    .dataframe thead th {\n",
       "        text-align: right;\n",
       "    }\n",
       "</style>\n",
       "<table border=\"1\" class=\"dataframe\">\n",
       "  <thead>\n",
       "    <tr style=\"text-align: right;\">\n",
       "      <th></th>\n",
       "      <th>fact_check_url</th>\n",
       "      <th>news_url</th>\n",
       "      <th>content</th>\n",
       "      <th>label</th>\n",
       "    </tr>\n",
       "  </thead>\n",
       "  <tbody>\n",
       "    <tr>\n",
       "      <th>0</th>\n",
       "      <td>medicalnewstoday.com</td>\n",
       "      <td>https://www.medicalnewstoday.com/articles/coro...</td>\n",
       "      <td>\"Spraying chlorine or alcohol on the skin kill...</td>\n",
       "      <td>1</td>\n",
       "    </tr>\n",
       "    <tr>\n",
       "      <th>1</th>\n",
       "      <td>medicalnewstoday.com</td>\n",
       "      <td>https://www.medicalnewstoday.com/articles/coro...</td>\n",
       "      <td>\"Only older adults and young people are at risk\"</td>\n",
       "      <td>1</td>\n",
       "    </tr>\n",
       "    <tr>\n",
       "      <th>2</th>\n",
       "      <td>medicalnewstoday.com</td>\n",
       "      <td>https://www.medicalnewstoday.com/articles/coro...</td>\n",
       "      <td>\"Children cannot get COVID-19\"</td>\n",
       "      <td>1</td>\n",
       "    </tr>\n",
       "    <tr>\n",
       "      <th>3</th>\n",
       "      <td>medicalnewstoday.com</td>\n",
       "      <td>https://www.medicalnewstoday.com/articles/coro...</td>\n",
       "      <td>\"COVID-19 is just like the flu\"</td>\n",
       "      <td>1</td>\n",
       "    </tr>\n",
       "    <tr>\n",
       "      <th>4</th>\n",
       "      <td>medicalnewstoday.com</td>\n",
       "      <td>https://www.medicalnewstoday.com/articles/coro...</td>\n",
       "      <td>\"Everyone with COVID-19 dies\"</td>\n",
       "      <td>1</td>\n",
       "    </tr>\n",
       "  </tbody>\n",
       "</table>\n",
       "</div>"
      ],
      "text/plain": [
       "         fact_check_url                                           news_url  \\\n",
       "0  medicalnewstoday.com  https://www.medicalnewstoday.com/articles/coro...   \n",
       "1  medicalnewstoday.com  https://www.medicalnewstoday.com/articles/coro...   \n",
       "2  medicalnewstoday.com  https://www.medicalnewstoday.com/articles/coro...   \n",
       "3  medicalnewstoday.com  https://www.medicalnewstoday.com/articles/coro...   \n",
       "4  medicalnewstoday.com  https://www.medicalnewstoday.com/articles/coro...   \n",
       "\n",
       "                                             content  label  \n",
       "0  \"Spraying chlorine or alcohol on the skin kill...      1  \n",
       "1   \"Only older adults and young people are at risk\"      1  \n",
       "2                     \"Children cannot get COVID-19\"      1  \n",
       "3                    \"COVID-19 is just like the flu\"      1  \n",
       "4                      \"Everyone with COVID-19 dies\"      1  "
      ]
     },
     "execution_count": 385,
     "metadata": {},
     "output_type": "execute_result"
    }
   ],
   "source": [
    "claim_df.head()"
   ]
  },
  {
   "cell_type": "code",
   "execution_count": 386,
   "id": "4b840380",
   "metadata": {},
   "outputs": [
    {
     "data": {
      "text/plain": [
       "(518, 4)"
      ]
     },
     "execution_count": 386,
     "metadata": {},
     "output_type": "execute_result"
    }
   ],
   "source": [
    "claim_df.shape"
   ]
  },
  {
   "cell_type": "markdown",
   "id": "1a6b4067",
   "metadata": {},
   "source": [
    "## integrate all news datasets"
   ]
  },
  {
   "cell_type": "code",
   "execution_count": 387,
   "id": "29b90065",
   "metadata": {},
   "outputs": [],
   "source": [
    "news_real= pd.concat([news_real1, news_real2, news_real3,news_real4],axis=0, ignore_index=True)"
   ]
  },
  {
   "cell_type": "code",
   "execution_count": 388,
   "id": "5ce3f000",
   "metadata": {},
   "outputs": [],
   "source": [
    "news_fake= pd.concat([news_fake1,news_fake2,news_fake3,news_fake4],axis=0, ignore_index=True)"
   ]
  },
  {
   "cell_type": "code",
   "execution_count": 389,
   "id": "d6c07d05",
   "metadata": {},
   "outputs": [],
   "source": [
    "news_real[\"label\"] = 0\n",
    "news_fake[\"label\"] = 1"
   ]
  },
  {
   "cell_type": "code",
   "execution_count": 390,
   "id": "35966410",
   "metadata": {},
   "outputs": [],
   "source": [
    "news_fake = news_fake.drop(['archive', 'news_url2', 'news_url3', 'news_url4', 'news_url5'], axis=1)"
   ]
  },
  {
   "cell_type": "code",
   "execution_count": 391,
   "id": "75c43ff7",
   "metadata": {},
   "outputs": [],
   "source": [
    "news_df = pd.concat([news_real, news_fake],axis=0, ignore_index=True)"
   ]
  },
  {
   "cell_type": "code",
   "execution_count": 392,
   "id": "13789e5f",
   "metadata": {},
   "outputs": [
    {
     "name": "stdout",
     "output_type": "stream",
     "text": [
      "Unnamed: 0           0\n",
      "type                43\n",
      "fact_check_url       0\n",
      "news_url            43\n",
      "title                0\n",
      "newstitle          482\n",
      "content           1017\n",
      "abstract          2341\n",
      "publish_date      4276\n",
      "meta_keywords      482\n",
      "label                0\n",
      "dtype: int64\n"
     ]
    }
   ],
   "source": [
    "print(news_df.isnull().sum())"
   ]
  },
  {
   "cell_type": "code",
   "execution_count": 393,
   "id": "ec7eecad",
   "metadata": {},
   "outputs": [],
   "source": [
    "news_df[\"content\"] = news_df[\"title\"].fillna('') + ' ' + news_df[\"newstitle\"].fillna('') + ' ' + news_df[\"content\"].fillna('') + ' ' + news_df[\"abstract\"].fillna('')"
   ]
  },
  {
   "cell_type": "code",
   "execution_count": 394,
   "id": "d4a17d95",
   "metadata": {},
   "outputs": [],
   "source": [
    "news_df = news_df.drop(['Unnamed: 0',\"type\",\"title\",\"newstitle\",\"abstract\",\"publish_date\",\"meta_keywords\"], axis = 1)"
   ]
  },
  {
   "cell_type": "code",
   "execution_count": 395,
   "id": "9a2c713b",
   "metadata": {},
   "outputs": [
    {
     "data": {
      "text/html": [
       "<div>\n",
       "<style scoped>\n",
       "    .dataframe tbody tr th:only-of-type {\n",
       "        vertical-align: middle;\n",
       "    }\n",
       "\n",
       "    .dataframe tbody tr th {\n",
       "        vertical-align: top;\n",
       "    }\n",
       "\n",
       "    .dataframe thead th {\n",
       "        text-align: right;\n",
       "    }\n",
       "</style>\n",
       "<table border=\"1\" class=\"dataframe\">\n",
       "  <thead>\n",
       "    <tr style=\"text-align: right;\">\n",
       "      <th></th>\n",
       "      <th>fact_check_url</th>\n",
       "      <th>news_url</th>\n",
       "      <th>content</th>\n",
       "      <th>label</th>\n",
       "    </tr>\n",
       "  </thead>\n",
       "  <tbody>\n",
       "    <tr>\n",
       "      <th>0</th>\n",
       "      <td>healthline.com</td>\n",
       "      <td>https://www.healthline.com/health-news/coronav...</td>\n",
       "      <td>Coronavirus Outbreak: Live Updates \"Coronaviru...</td>\n",
       "      <td>0</td>\n",
       "    </tr>\n",
       "    <tr>\n",
       "      <th>1</th>\n",
       "      <td>healthline.com</td>\n",
       "      <td>https://www.healthline.com/health-news/screen-...</td>\n",
       "      <td>Screen Time Doesn’t Hurt Kids’ Social Skills, ...</td>\n",
       "      <td>0</td>\n",
       "    </tr>\n",
       "    <tr>\n",
       "      <th>2</th>\n",
       "      <td>healthline.com</td>\n",
       "      <td>https://www.healthline.com/health-news/heres-e...</td>\n",
       "      <td>Here’s Exactly Where We Are with Vaccines and ...</td>\n",
       "      <td>0</td>\n",
       "    </tr>\n",
       "    <tr>\n",
       "      <th>3</th>\n",
       "      <td>healthline.com</td>\n",
       "      <td>https://www.healthline.com/health-news/heres-w...</td>\n",
       "      <td>Here’s What Happens to the Body After Contract...</td>\n",
       "      <td>0</td>\n",
       "    </tr>\n",
       "    <tr>\n",
       "      <th>4</th>\n",
       "      <td>healthline.com</td>\n",
       "      <td>https://www.healthline.com/health-news/why-you...</td>\n",
       "      <td>Why You Should Be Skeptical of Early Results o...</td>\n",
       "      <td>0</td>\n",
       "    </tr>\n",
       "  </tbody>\n",
       "</table>\n",
       "</div>"
      ],
      "text/plain": [
       "   fact_check_url                                           news_url  \\\n",
       "0  healthline.com  https://www.healthline.com/health-news/coronav...   \n",
       "1  healthline.com  https://www.healthline.com/health-news/screen-...   \n",
       "2  healthline.com  https://www.healthline.com/health-news/heres-e...   \n",
       "3  healthline.com  https://www.healthline.com/health-news/heres-w...   \n",
       "4  healthline.com  https://www.healthline.com/health-news/why-you...   \n",
       "\n",
       "                                             content  label  \n",
       "0  Coronavirus Outbreak: Live Updates \"Coronaviru...      0  \n",
       "1  Screen Time Doesn’t Hurt Kids’ Social Skills, ...      0  \n",
       "2  Here’s Exactly Where We Are with Vaccines and ...      0  \n",
       "3  Here’s What Happens to the Body After Contract...      0  \n",
       "4  Why You Should Be Skeptical of Early Results o...      0  "
      ]
     },
     "execution_count": 395,
     "metadata": {},
     "output_type": "execute_result"
    }
   ],
   "source": [
    "news_df.head()"
   ]
  },
  {
   "cell_type": "code",
   "execution_count": 396,
   "id": "cb0ccf69",
   "metadata": {},
   "outputs": [
    {
     "data": {
      "text/plain": [
       "(5457, 4)"
      ]
     },
     "execution_count": 396,
     "metadata": {},
     "output_type": "execute_result"
    }
   ],
   "source": [
    "news_df.shape"
   ]
  },
  {
   "cell_type": "markdown",
   "id": "71fef930",
   "metadata": {},
   "source": [
    "## Integrate news_df and claim_df datasets"
   ]
  },
  {
   "cell_type": "code",
   "execution_count": 397,
   "id": "9c4f58c8",
   "metadata": {},
   "outputs": [],
   "source": [
    "two_df= pd.concat([claim_df,news_df],axis=0, ignore_index=True)"
   ]
  },
  {
   "cell_type": "code",
   "execution_count": 398,
   "id": "d4240e5a",
   "metadata": {},
   "outputs": [],
   "source": [
    "two_df = two_df[[\"content\", \"label\"]]"
   ]
  },
  {
   "cell_type": "code",
   "execution_count": 399,
   "id": "fab3b89a",
   "metadata": {},
   "outputs": [
    {
     "data": {
      "text/html": [
       "<div>\n",
       "<style scoped>\n",
       "    .dataframe tbody tr th:only-of-type {\n",
       "        vertical-align: middle;\n",
       "    }\n",
       "\n",
       "    .dataframe tbody tr th {\n",
       "        vertical-align: top;\n",
       "    }\n",
       "\n",
       "    .dataframe thead th {\n",
       "        text-align: right;\n",
       "    }\n",
       "</style>\n",
       "<table border=\"1\" class=\"dataframe\">\n",
       "  <thead>\n",
       "    <tr style=\"text-align: right;\">\n",
       "      <th></th>\n",
       "      <th>content</th>\n",
       "      <th>label</th>\n",
       "    </tr>\n",
       "  </thead>\n",
       "  <tbody>\n",
       "    <tr>\n",
       "      <th>0</th>\n",
       "      <td>\"Spraying chlorine or alcohol on the skin kill...</td>\n",
       "      <td>1</td>\n",
       "    </tr>\n",
       "    <tr>\n",
       "      <th>1</th>\n",
       "      <td>\"Only older adults and young people are at risk\"</td>\n",
       "      <td>1</td>\n",
       "    </tr>\n",
       "    <tr>\n",
       "      <th>2</th>\n",
       "      <td>\"Children cannot get COVID-19\"</td>\n",
       "      <td>1</td>\n",
       "    </tr>\n",
       "    <tr>\n",
       "      <th>3</th>\n",
       "      <td>\"COVID-19 is just like the flu\"</td>\n",
       "      <td>1</td>\n",
       "    </tr>\n",
       "    <tr>\n",
       "      <th>4</th>\n",
       "      <td>\"Everyone with COVID-19 dies\"</td>\n",
       "      <td>1</td>\n",
       "    </tr>\n",
       "  </tbody>\n",
       "</table>\n",
       "</div>"
      ],
      "text/plain": [
       "                                             content  label\n",
       "0  \"Spraying chlorine or alcohol on the skin kill...      1\n",
       "1   \"Only older adults and young people are at risk\"      1\n",
       "2                     \"Children cannot get COVID-19\"      1\n",
       "3                    \"COVID-19 is just like the flu\"      1\n",
       "4                      \"Everyone with COVID-19 dies\"      1"
      ]
     },
     "execution_count": 399,
     "metadata": {},
     "output_type": "execute_result"
    }
   ],
   "source": [
    "two_df.head()"
   ]
  },
  {
   "cell_type": "code",
   "execution_count": 400,
   "id": "e9947e2b",
   "metadata": {},
   "outputs": [
    {
     "data": {
      "text/plain": [
       "(5975, 2)"
      ]
     },
     "execution_count": 400,
     "metadata": {},
     "output_type": "execute_result"
    }
   ],
   "source": [
    "two_df.shape"
   ]
  },
  {
   "cell_type": "markdown",
   "id": "e26dbdda",
   "metadata": {},
   "source": [
    "## Integrate two_df and constraint_df dataset"
   ]
  },
  {
   "cell_type": "code",
   "execution_count": 401,
   "id": "e68017a4",
   "metadata": {},
   "outputs": [],
   "source": [
    "df= pd.concat([two_df,constraint_df],axis=0, ignore_index=True)"
   ]
  },
  {
   "cell_type": "code",
   "execution_count": 402,
   "id": "91533d65",
   "metadata": {},
   "outputs": [
    {
     "data": {
      "text/html": [
       "<div>\n",
       "<style scoped>\n",
       "    .dataframe tbody tr th:only-of-type {\n",
       "        vertical-align: middle;\n",
       "    }\n",
       "\n",
       "    .dataframe tbody tr th {\n",
       "        vertical-align: top;\n",
       "    }\n",
       "\n",
       "    .dataframe thead th {\n",
       "        text-align: right;\n",
       "    }\n",
       "</style>\n",
       "<table border=\"1\" class=\"dataframe\">\n",
       "  <thead>\n",
       "    <tr style=\"text-align: right;\">\n",
       "      <th></th>\n",
       "      <th>content</th>\n",
       "      <th>label</th>\n",
       "    </tr>\n",
       "  </thead>\n",
       "  <tbody>\n",
       "    <tr>\n",
       "      <th>0</th>\n",
       "      <td>\"Spraying chlorine or alcohol on the skin kill...</td>\n",
       "      <td>1</td>\n",
       "    </tr>\n",
       "    <tr>\n",
       "      <th>1</th>\n",
       "      <td>\"Only older adults and young people are at risk\"</td>\n",
       "      <td>1</td>\n",
       "    </tr>\n",
       "    <tr>\n",
       "      <th>2</th>\n",
       "      <td>\"Children cannot get COVID-19\"</td>\n",
       "      <td>1</td>\n",
       "    </tr>\n",
       "    <tr>\n",
       "      <th>3</th>\n",
       "      <td>\"COVID-19 is just like the flu\"</td>\n",
       "      <td>1</td>\n",
       "    </tr>\n",
       "    <tr>\n",
       "      <th>4</th>\n",
       "      <td>\"Everyone with COVID-19 dies\"</td>\n",
       "      <td>1</td>\n",
       "    </tr>\n",
       "  </tbody>\n",
       "</table>\n",
       "</div>"
      ],
      "text/plain": [
       "                                             content  label\n",
       "0  \"Spraying chlorine or alcohol on the skin kill...      1\n",
       "1   \"Only older adults and young people are at risk\"      1\n",
       "2                     \"Children cannot get COVID-19\"      1\n",
       "3                    \"COVID-19 is just like the flu\"      1\n",
       "4                      \"Everyone with COVID-19 dies\"      1"
      ]
     },
     "execution_count": 402,
     "metadata": {},
     "output_type": "execute_result"
    }
   ],
   "source": [
    "df.head()"
   ]
  },
  {
   "cell_type": "code",
   "execution_count": 403,
   "id": "620f935e",
   "metadata": {},
   "outputs": [
    {
     "data": {
      "text/plain": [
       "(16675, 2)"
      ]
     },
     "execution_count": 403,
     "metadata": {},
     "output_type": "execute_result"
    }
   ],
   "source": [
    "df.shape"
   ]
  },
  {
   "cell_type": "markdown",
   "id": "2c50e96b",
   "metadata": {},
   "source": [
    "# Basic Text Pre-Processing\n",
    "\n",
    "Text preprocessing steps include a few essential tasks to further clean the available text data. It includes tasks like:-\n",
    "\n",
    "1. Stop-Word Removal : In English words like a, an, the, as, in, on, etc. are considered as stop-words so according to our requirements we can remove them to reduce vocabulary size as these words don't have some specific meaning\n",
    "\n",
    "2. Lower Casing : Convert all words into the lower case because the upper or lower case may not make a difference for the problem. And we are reducing vocabulary size by doing so.\n",
    "\n",
    "3. Stemming : Stemming refers to the process of removing suffixes and reducing a word to some base form such that all different variants of that word can be represented by the same form (e.g., “walk” and “walking” are both reduced to “walk”).\n",
    "\n",
    "4. Tokenization : NLP software typically analyzes text by breaking it up into words (tokens) and sentences.\n",
    "\n",
    "Pre-processing of the text is not the main objective of this notebook that's why I am just covering a few basic steps in a brief"
   ]
  },
  {
   "cell_type": "markdown",
   "id": "461a6659",
   "metadata": {},
   "source": [
    "### snowballSteammer VS Porter Stemmer"
   ]
  },
  {
   "cell_type": "code",
   "execution_count": 404,
   "id": "b8c13ab9",
   "metadata": {},
   "outputs": [],
   "source": [
    "import re\n",
    "import string\n",
    "import tldextract\n",
    "from nltk.corpus import stopwords\n",
    "from nltk.stem import SnowballStemmer\n",
    "from nltk.stem import WordNetLemmatizer\n",
    "\n",
    "def preprocess_text(text):\n",
    "    # Convert to lowercase\n",
    "    text = text.lower()\n",
    "    \n",
    "    # Remove URLs, HTML tags, square brackets, backslashes\n",
    "    text = re.sub('https?://\\S+|www\\.\\S+', '', text)\n",
    "    text = re.sub('<.*?>+', '', text)\n",
    "    text = re.sub('\\[.*?\\]', '', text)\n",
    "    text = re.sub(\"\\\\W\",\" \",text)\n",
    "    \n",
    "    # Remove punctuations, numbers, and newlines\n",
    "    text = re.sub('[%s]' % re.escape(string.punctuation), '', text)\n",
    "    text = re.sub('\\w*\\d\\w*', '', text)\n",
    "    text = re.sub('\\n', '', text)\n",
    "    \n",
    "    # Tokenize the text\n",
    "    tokens = nltk.word_tokenize(text)\n",
    "    \n",
    "    # Remove stopwords\n",
    "    stop_words = set(stopwords.words('english'))\n",
    "    tokens = [token for token in tokens if token not in stop_words]\n",
    "    \n",
    "   # Perform stemming using Snowball Stemmer\n",
    "    stemmer = SnowballStemmer('english')\n",
    "    stemmed_tokens = [stemmer.stem(token) for token in tokens]\n",
    "    \n",
    "    # return ' '.join(stemmed_tokens)\n",
    "     # Initialize lemmatizer\n",
    "    # lemmatizer = WordNetLemmatizer()\n",
    "    \n",
    "    # Perform lemmatization\n",
    "    # lemmatized_tokens = [lemmatizer.lemmatize(token) for token in tokens]\n",
    "    \n",
    "    return ' '.join(stemmed_tokens)"
   ]
  },
  {
   "cell_type": "code",
   "execution_count": 405,
   "id": "49fe8af6",
   "metadata": {},
   "outputs": [],
   "source": [
    "df['content']= df['content'].apply(preprocess_text)"
   ]
  },
  {
   "cell_type": "code",
   "execution_count": 406,
   "id": "a9ba1e61",
   "metadata": {},
   "outputs": [
    {
     "data": {
      "text/html": [
       "<div>\n",
       "<style scoped>\n",
       "    .dataframe tbody tr th:only-of-type {\n",
       "        vertical-align: middle;\n",
       "    }\n",
       "\n",
       "    .dataframe tbody tr th {\n",
       "        vertical-align: top;\n",
       "    }\n",
       "\n",
       "    .dataframe thead th {\n",
       "        text-align: right;\n",
       "    }\n",
       "</style>\n",
       "<table border=\"1\" class=\"dataframe\">\n",
       "  <thead>\n",
       "    <tr style=\"text-align: right;\">\n",
       "      <th></th>\n",
       "      <th>content</th>\n",
       "      <th>label</th>\n",
       "    </tr>\n",
       "  </thead>\n",
       "  <tbody>\n",
       "    <tr>\n",
       "      <th>0</th>\n",
       "      <td>spray chlorin alcohol skin kill virus bodi</td>\n",
       "      <td>1</td>\n",
       "    </tr>\n",
       "    <tr>\n",
       "      <th>1</th>\n",
       "      <td>older adult young peopl risk</td>\n",
       "      <td>1</td>\n",
       "    </tr>\n",
       "    <tr>\n",
       "      <th>2</th>\n",
       "      <td>children get covid</td>\n",
       "      <td>1</td>\n",
       "    </tr>\n",
       "    <tr>\n",
       "      <th>3</th>\n",
       "      <td>covid like flu</td>\n",
       "      <td>1</td>\n",
       "    </tr>\n",
       "    <tr>\n",
       "      <th>4</th>\n",
       "      <td>everyon covid die</td>\n",
       "      <td>1</td>\n",
       "    </tr>\n",
       "  </tbody>\n",
       "</table>\n",
       "</div>"
      ],
      "text/plain": [
       "                                      content  label\n",
       "0  spray chlorin alcohol skin kill virus bodi      1\n",
       "1                older adult young peopl risk      1\n",
       "2                          children get covid      1\n",
       "3                              covid like flu      1\n",
       "4                           everyon covid die      1"
      ]
     },
     "execution_count": 406,
     "metadata": {},
     "output_type": "execute_result"
    }
   ],
   "source": [
    "df.head()"
   ]
  },
  {
   "cell_type": "markdown",
   "id": "a34b0a11",
   "metadata": {},
   "source": [
    "## split a manual testing dataset"
   ]
  },
  {
   "cell_type": "code",
   "execution_count": 407,
   "id": "3f6bc294",
   "metadata": {},
   "outputs": [],
   "source": [
    "df_manual_testing=df.tail(10)\n",
    "for i in range(16674,16654,-1):\n",
    "    df.drop([i],axis=0,inplace=True)"
   ]
  },
  {
   "cell_type": "code",
   "execution_count": 408,
   "id": "d8beb4c6",
   "metadata": {},
   "outputs": [
    {
     "data": {
      "text/plain": [
       "(16655, 2)"
      ]
     },
     "execution_count": 408,
     "metadata": {},
     "output_type": "execute_result"
    }
   ],
   "source": [
    "df.shape"
   ]
  },
  {
   "cell_type": "code",
   "execution_count": 409,
   "id": "011f2a39",
   "metadata": {},
   "outputs": [],
   "source": [
    "df_manual_testing.to_csv(\"data/df_manual_testing.csv\")\n",
    "df.to_csv(\"data/df.csv\")"
   ]
  }
 ],
 "metadata": {
  "kernelspec": {
   "display_name": "Python 3 (ipykernel)",
   "language": "python",
   "name": "python3"
  },
  "language_info": {
   "codemirror_mode": {
    "name": "ipython",
    "version": 3
   },
   "file_extension": ".py",
   "mimetype": "text/x-python",
   "name": "python",
   "nbconvert_exporter": "python",
   "pygments_lexer": "ipython3",
   "version": "3.10.9"
  }
 },
 "nbformat": 4,
 "nbformat_minor": 5
}
