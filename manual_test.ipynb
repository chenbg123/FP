{
 "cells": [
  {
   "cell_type": "code",
   "execution_count": 48,
   "id": "06788bc2",
   "metadata": {},
   "outputs": [],
   "source": [
    "import pandas as pd\n",
    "import pickle\n",
    "import numpy as np\n",
    "from preprocessing import preprocess_text\n",
    "\n",
    "import re\n",
    "import string\n",
    "import tldextract\n",
    "import nltk\n",
    "\n",
    "from nltk.corpus import stopwords\n",
    "from nltk.stem import SnowballStemmer\n",
    "from nltk.stem import WordNetLemmatizer"
   ]
  },
  {
   "cell_type": "code",
   "execution_count": 49,
   "id": "1c20c411",
   "metadata": {},
   "outputs": [],
   "source": [
    "lr=\"LR.pkl\"\n",
    "rf=\"RF.pkl\"\n",
    "dt=\"DT.pkl\"\n",
    "svm=\"SVC.pkl\"\n",
    "nb=\"NB.pkl\"\n",
    "gb=\"GB.pkl\"\n",
    "knn=\"KNN.pkl\"\n",
    "vectoriztion=\"feature_extraction/vectorization.pickle\""
   ]
  },
  {
   "cell_type": "code",
   "execution_count": 50,
   "id": "b5a3d3e8",
   "metadata": {},
   "outputs": [],
   "source": [
    "with open(vectoriztion, 'rb') as file:\n",
    "    vectoriztion = pickle.load(file)\n",
    "    \n",
    "with open(lr, 'rb') as file:\n",
    "    lr = pickle.load(file)\n",
    "\n",
    "with open(rf, 'rb') as file:\n",
    "    rf = pickle.load(file)\n",
    "\n",
    "with open(dt, 'rb') as file:\n",
    "    dt = pickle.load(file)\n",
    "\n",
    "with open(svm, 'rb') as file:\n",
    "    svm = pickle.load(file)\n",
    "\n",
    "with open(nb, 'rb') as file:\n",
    "    nb = pickle.load(file)\n",
    "\n",
    "with open(gb, 'rb') as file:\n",
    "    gb = pickle.load(file)\n",
    "\n",
    "with open(knn, 'rb') as file:\n",
    "    knn = pickle.load(file)"
   ]
  },
  {
   "cell_type": "code",
   "execution_count": 51,
   "id": "8c85a17c",
   "metadata": {},
   "outputs": [],
   "source": [
    "\n",
    "def preprocess_text(text):\n",
    "    # Convert to lowercase\n",
    "    text = text.lower()\n",
    "    \n",
    "    # Remove URLs, HTML tags, square brackets, backslashes\n",
    "    text = re.sub('https?://\\S+|www\\.\\S+', '', text)\n",
    "    text = re.sub('<.*?>+', '', text)\n",
    "    text = re.sub('\\[.*?\\]', '', text)\n",
    "    text = re.sub(\"\\\\W\",\" \",text)\n",
    "    \n",
    "    # Remove punctuations, numbers, and newlines\n",
    "    text = re.sub('[%s]' % re.escape(string.punctuation), '', text)\n",
    "    text = re.sub('\\w*\\d\\w*', '', text)\n",
    "    text = re.sub('\\n', '', text)\n",
    "    \n",
    "    # Tokenize the text\n",
    "    tokens = nltk.word_tokenize(text)\n",
    "    \n",
    "    # Remove stopwords\n",
    "    stop_words = set(stopwords.words('english'))\n",
    "    tokens = [token for token in tokens if token not in stop_words]\n",
    "    \n",
    "   # Perform stemming using Snowball Stemmer\n",
    "    stemmer = SnowballStemmer('english')\n",
    "    stemmed_tokens = [stemmer.stem(token) for token in tokens]\n",
    "    \n",
    "    # return ' '.join(stemmed_tokens)\n",
    "     # Initialize lemmatizer\n",
    "    # lemmatizer = WordNetLemmatizer()\n",
    "    \n",
    "    # Perform lemmatization\n",
    "    # lemmatized_tokens = [lemmatizer.lemmatize(token) for token in tokens]\n",
    "    \n",
    "    return ' '.join(stemmed_tokens)"
   ]
  },
  {
   "cell_type": "code",
   "execution_count": 54,
   "id": "ebe1ba54",
   "metadata": {},
   "outputs": [
    {
     "name": "stdout",
     "output_type": "stream",
     "text": [
      "Enter the news to test: covid is flu\n",
      "LR Prediction: Fake News\n",
      "DT Prediction: Fake News\n",
      "RFC Prediction: Fake News\n",
      "GBC Prediction: Fake News\n",
      "NB Prediction: Real News\n",
      "KNN Prediction: Fake News\n",
      "SVM Prediction: Fake News\n"
     ]
    }
   ],
   "source": [
    "def output_label(n):\n",
    "    if n == 1:\n",
    "        return \"Fake News\"\n",
    "    elif n == 0:\n",
    "        return \"Real News\"\n",
    "\n",
    "def manual_testing_voting(news):\n",
    "    testing_news = {\"content\": [news]}\n",
    "    new_def_test = pd.DataFrame(testing_news)\n",
    "\n",
    "    new_def_test[\"content\"] = new_def_test[\"content\"].apply(preprocess_text)\n",
    "\n",
    "    x_test = new_def_test[\"content\"]\n",
    "    x_test = vectoriztion.transform(x_test)\n",
    "    x_test = x_test.toarray()\n",
    "\n",
    "    # Predict using each model\n",
    "    pred_LR = lr.predict(x_test)\n",
    "    pred_DT = dt.predict(x_test)\n",
    "    pred_RFC = rf.predict(x_test)\n",
    "    pred_NB = nb.predict(x_test)\n",
    "    pred_GB = gb.predict(x_test)\n",
    "    pred_KNN = knn.predict(x_test)\n",
    "    pred_SVM = svm.predict(x_test)\n",
    "\n",
    "    # Output the predictions\n",
    "    print(\"LR Prediction:\", output_label(pred_LR[0]))\n",
    "    print(\"DT Prediction:\", output_label(pred_DT[0]))\n",
    "    print(\"RFC Prediction:\", output_label(pred_RFC[0]))\n",
    "    print(\"GBC Prediction:\", output_label(pred_GB[0]))\n",
    "    print(\"NB Prediction:\", output_label(pred_NB[0]))\n",
    "    print(\"KNN Prediction:\", output_label(pred_KNN[0]))\n",
    "    print(\"SVM Prediction:\", output_label(pred_SVM[0]))\n",
    "\n",
    "news = input(\"Enter the news to test: \")\n",
    "manual_testing_voting(news)\n"
   ]
  },
  {
   "cell_type": "code",
   "execution_count": null,
   "id": "74d4a827",
   "metadata": {},
   "outputs": [],
   "source": []
  }
 ],
 "metadata": {
  "kernelspec": {
   "display_name": "Python 3 (ipykernel)",
   "language": "python",
   "name": "python3"
  },
  "language_info": {
   "codemirror_mode": {
    "name": "ipython",
    "version": 3
   },
   "file_extension": ".py",
   "mimetype": "text/x-python",
   "name": "python",
   "nbconvert_exporter": "python",
   "pygments_lexer": "ipython3",
   "version": "3.8.16"
  }
 },
 "nbformat": 4,
 "nbformat_minor": 5
}
